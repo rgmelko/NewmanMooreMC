{
 "cells": [
  {
   "cell_type": "markdown",
   "metadata": {},
   "source": [
    "# A Monte Carlo program for the Newman-Moore triangular lattice Ising model"
   ]
  },
  {
   "cell_type": "code",
   "execution_count": 1,
   "metadata": {},
   "outputs": [],
   "source": [
    "using DelimitedFiles\n",
    "using Random; Random.seed!(0);\n",
    "rng = MersenneTwister(1234);\n",
    "\n",
    "const EqSteps = 100\n",
    "const NumSteps = 1000 #Monte Carlo production steps\n",
    "\n",
    "#k = 2\n",
    "#L = 2^k\n",
    "L = 64\n",
    "N = L*L\n",
    "Spin = fill(1,N);"
   ]
  },
  {
   "cell_type": "code",
   "execution_count": 2,
   "metadata": {},
   "outputs": [],
   "source": [
    "#This is the data structure that relates up-triangles to spin indices\n",
    "function make_up_triangle(L, N)\n",
    "    UpTriangle = zeros(Int,N,3)\n",
    "    for i = 1:N\n",
    "        UpTriangle[i,1] = i\n",
    "        UpTriangle[i,2] = i+1    \n",
    "        UpTriangle[i,3] = i+L\n",
    "        #fix PBCs\n",
    "        if mod(i,L) == 0\n",
    "            UpTriangle[i,2] = i + 1 - L\n",
    "        end\n",
    "        if (i+L)> N\n",
    "            UpTriangle[i,3] = i + L - N\n",
    "        end\n",
    "    end\n",
    "    return UpTriangle\n",
    "end\n",
    "UpTriangle = make_up_triangle(L, N);"
   ]
  },
  {
   "cell_type": "code",
   "execution_count": 3,
   "metadata": {},
   "outputs": [],
   "source": [
    "#This is the inverse data structure that relates a spin index to its 3 up-triangles\n",
    "function make_associated_tri(L, N)\n",
    "    AssociatedTri = zeros(Int,N,3)\n",
    "    for i = 1:N\n",
    "        AssociatedTri[i,1] = i\n",
    "        AssociatedTri[i,2] = i-1\n",
    "        AssociatedTri[i,3] = i-L\n",
    "        if mod(i-1+L,L) == 0\n",
    "            AssociatedTri[i,2] = i - 1 + L\n",
    "        end\n",
    "        if i<(L+1) \n",
    "            AssociatedTri[i,3] = i + N - L\n",
    "        end\n",
    "    end\n",
    "    return AssociatedTri\n",
    "end\n",
    "AssociatedTri = make_associated_tri(L, N);"
   ]
  },
  {
   "cell_type": "code",
   "execution_count": 4,
   "metadata": {},
   "outputs": [
    {
     "data": {
      "text/plain": [
       "Energy_Total (generic function with 1 method)"
      ]
     },
     "execution_count": 4,
     "metadata": {},
     "output_type": "execute_result"
    }
   ],
   "source": [
    "#here is the brute force calculation of the energy\n",
    "function Energy_Total(Energy,Spin)\n",
    "    Energy = 0\n",
    "    for i = 1:N\n",
    "        Spin1 = Spin[UpTriangle[i,1]]\n",
    "        Spin2 = Spin[UpTriangle[i,2]]\n",
    "        Spin3 = Spin[UpTriangle[i,3]]\n",
    "        Energy += Spin1 * Spin2 * Spin3  #J = 1\n",
    "        end # limit all arithmetic to integers for as long as we can\n",
    "    return Energy / 2\n",
    "end #Energy_Total"
   ]
  },
  {
   "cell_type": "code",
   "execution_count": 5,
   "metadata": {},
   "outputs": [
    {
     "data": {
      "text/plain": [
       "Energy_Diff (generic function with 1 method)"
      ]
     },
     "execution_count": 5,
     "metadata": {},
     "output_type": "execute_result"
    }
   ],
   "source": [
    "#here is the energy DIFFERENCE calculated from the local triangular plaquettes\n",
    "function Energy_Diff(Spin,spin_index)\n",
    "    \n",
    "    Tri1 = AssociatedTri[spin_index,1]\n",
    "    Tri2 = AssociatedTri[spin_index,2]\n",
    "    Tri3 = AssociatedTri[spin_index,3]\n",
    "\n",
    "    plaquette_factor = 0\n",
    "    plaquette_factor -= Spin[UpTriangle[Tri1,2]] * Spin[UpTriangle[Tri1,3]]\n",
    "    plaquette_factor -= Spin[UpTriangle[Tri2,1]] * Spin[UpTriangle[Tri2,3]]\n",
    "    plaquette_factor -= Spin[UpTriangle[Tri3,1]] * Spin[UpTriangle[Tri3,2]]\n",
    "    \n",
    "    return Spin[spin_index] * plaquette_factor\n",
    "end\n",
    "\n",
    "# Energy_Diff can only take 4 values: -3, -1, 1, 3\n",
    "# BUT, the non-positive values always result in acceptance\n",
    "# so we only need to cache the value of exp(-dE / T) for 2 values of dE\n",
    "# we'll store these values in a tuple of length 3, and get the\n",
    "# acceptance prob by indexing with dE"
   ]
  },
  {
   "cell_type": "code",
   "execution_count": 6,
   "metadata": {},
   "outputs": [
    {
     "data": {
      "text/plain": [
       "MetropolisAccept (generic function with 1 method)"
      ]
     },
     "execution_count": 6,
     "metadata": {},
     "output_type": "execute_result"
    }
   ],
   "source": [
    "function MetropolisAccept(DeltaE::Int, acceptance_ratios::NTuple{3, Float64})::Bool\n",
    "    if DeltaE <= 0\n",
    "        return true\n",
    "    else\n",
    "        rnum = rand(rng)  #random number for Metropolis\n",
    "        if (acceptance_ratios[DeltaE] > rnum)\n",
    "            return true\n",
    "        end\n",
    "    end \n",
    "    return false\n",
    "end"
   ]
  },
  {
   "cell_type": "code",
   "execution_count": 7,
   "metadata": {},
   "outputs": [
    {
     "name": "stdout",
     "output_type": "stream",
     "text": [
      "0 1.0 -0.231166748046875 -0.2310585786300049 219.07166528318547 0.35634716796875\n",
      "1 0.951229424500714 -0.2413974609375 -0.2410189098634476 264.0099759567621 0.3321435546875\n",
      "2 0.9048374180359595 -0.250558837890625 -0.25122772556372186 314.30797161029136 0.310299560546875\n",
      "3 0.8607079764250578 -0.261896240234375 -0.2616658465277084 379.45935613003525 0.286473388671875\n",
      "4 0.8187307530779818 -0.272180908203125 -0.27231031459107935 452.93766074744633 0.2638271484375\n",
      "5 0.7788007830714049 -0.282749267578125 -0.2831342122881081 540.1793872425837 0.242111572265625\n",
      "6 0.7408182206817178 -0.294144287109375 -0.29410654400704594 646.0435248436795 0.21926904296875\n",
      "7 0.7046880897187134 -0.305872802734375 -0.30519219582497953 771.9986081003726 0.196956298828125\n",
      "8 0.6703200460356393 -0.316346435546875 -0.3163519917645896 912.5791277142711 0.177334228515625\n",
      "9 0.6376281516217732 -0.3272763671875 -0.3275428638318262 1079.4169261013617 0.158004150390625\n",
      "10 0.6065306597126334 -0.33856591796875 -0.3387181516044302 1276.6118883157012 0.13920458984375\n",
      "11 0.5769498103804866 -0.3495205078125 -0.3498280441111027 1503.6355819901598 0.1220029296875\n",
      "12 0.5488116360940264 -0.361635498046875 -0.36082017210170436 1778.8318175525976 0.104942626953125\n",
      "13 0.522045776761016 -0.3713505859375 -0.3716403525034072 2073.0304375090814 0.09070166015625\n",
      "14 0.49658530379140947 -0.381957763671875 -0.38223347898568405 2423.684681199364 0.076826416015625\n",
      "15 0.4723665527410147 -0.392572021484375 -0.39254454341166145 2829.4327558209607 0.064279296875\n",
      "16 0.44932896411722156 -0.403881103515625 -0.40251976304277937 3309.7782782686922 0.05251806640625\n",
      "17 0.42741493194872665 -0.412130615234375 -0.4121077784057653 3808.7106457420605 0.043956298828125\n",
      "18 0.4065696597405991 -0.422002197265625 -0.42126087761441716 4413.2544229978585 0.03502734375\n"
     ]
    }
   ],
   "source": [
    "Tarr = zeros(Float64,0)  \n",
    "EMC = zeros(Float64,0)  \n",
    "SpecHeat = zeros(Float64,0)  \n",
    "Eexact = zeros(Float64,0)\n",
    "Acceptance = zeros(Float64,0) \n",
    "\n",
    "const gamma = 0.05\n",
    "const stoptime = 18\n",
    "for time = 0:stoptime\n",
    "#for T = 10:-0.1:0.1  #count down  \n",
    "    \n",
    "    print(time,\" \")\n",
    "    T = exp(-gamma*time)\n",
    "    beta = 1.0/T\n",
    "    \n",
    "    acceptance_ratios = (exp(-beta*1), exp(-beta*2), exp(-beta*3))\n",
    "\n",
    "    #initialize the energy\n",
    "    Energy = 0\n",
    "    Energy=Energy_Total(Energy,Spin)\n",
    "    #println(Energy)\n",
    "\n",
    "    for step = 1:EqSteps\n",
    "        for i = 1:N  #multiple single spin flips\n",
    "            spin_i = rand(1:N)\n",
    "            DeltaE = Energy_Diff(Spin,spin_i)\n",
    "            if MetropolisAccept(DeltaE, acceptance_ratios)\n",
    "                Energy += DeltaE\n",
    "                Spin[spin_i] *= -1\n",
    "            end \n",
    "        end #i\n",
    "    end #Equilibration\n",
    "    \n",
    "    E_avg = 0\n",
    "    E2 = 0\n",
    "    A_rate = 0\n",
    "    for step = 1:NumSteps\n",
    "        Accept = 0\n",
    "        for i = 1:N  #multiple single spin flips\n",
    "            spin_i = rand(1:N)\n",
    "            DeltaE = Energy_Diff(Spin,spin_i)\n",
    "            if MetropolisAccept(DeltaE, acceptance_ratios)\n",
    "                Energy += DeltaE\n",
    "                Spin[spin_i] *= -1\n",
    "                Accept += 1\n",
    "            end \n",
    "        end #i\n",
    "        E_avg += Energy\n",
    "        E2 += Energy*Energy\n",
    "        A_rate += Accept/N\n",
    "    end #Monte Carlo production step\n",
    "\n",
    "    E_exact = 1/(1+exp(beta))\n",
    "    Cv = E2/NumSteps - (E_exact/NumSteps)^2\n",
    "    println(T,\" \",E_avg/NumSteps/N,\" \",E_exact-0.5,\" \",Cv/N/T/T,\" \",A_rate/NumSteps)\n",
    "     \n",
    "    push!(Tarr,T)\n",
    "    push!(EMC,E_avg/NumSteps/N)\n",
    "    push!(SpecHeat,Cv/(T*T*N))\n",
    "    push!(Eexact,E_exact-0.5)\n",
    "    push!(Acceptance,A_rate/NumSteps)\n",
    "    \n",
    "    #Let's write configuration files for data\n",
    "    if time == stoptime\n",
    "        Tstring = first(string(T),8)\n",
    "        filename = string(\"T\",Tstring,\".dat\")\n",
    "        \n",
    "        for step = 1:2 #configuration data files\n",
    "            for i = 1:20*N  #multiple single spin flips\n",
    "                spin_i = rand(1:N)\n",
    "                DeltaE = Energy_Diff(Spin,spin_i)\n",
    "                if MetropolisAccept(DeltaE, acceptance_ratios)\n",
    "                    Energy += DeltaE\n",
    "                    Spin[spin_i] *= -1\n",
    "                    end \n",
    "                end #i\n",
    "\n",
    "            open(filename, \"a\") do io\n",
    "                writedlm(io, Spin' , \" \")\n",
    "            end\n",
    "        end #step\n",
    "    end #stoptime\n",
    "\n",
    "end #T\n"
   ]
  },
  {
   "cell_type": "code",
   "execution_count": null,
   "metadata": {},
   "outputs": [],
   "source": [
    "using Plots\n",
    "\n",
    "plot(Tarr, [EMC, Eexact], title = \"L=64\", label = [\"Monte Carlo\" \"Exact\"], lw = 3 )\n",
    "xlabel!(\"Temperature\")\n",
    "ylabel!(\"Energy\")"
   ]
  },
  {
   "cell_type": "code",
   "execution_count": null,
   "metadata": {},
   "outputs": [],
   "source": [
    "plot(Tarr, Acceptance, label = \"L=64\", lw = 3 )\n",
    "xlabel!(\"Temperature\")\n",
    "ylabel!(\"Acceptance Rate\")"
   ]
  },
  {
   "cell_type": "code",
   "execution_count": null,
   "metadata": {},
   "outputs": [],
   "source": []
  }
 ],
 "metadata": {
  "kernelspec": {
   "display_name": "Julia 1.3.1",
   "language": "julia",
   "name": "julia-1.3"
  },
  "language_info": {
   "file_extension": ".jl",
   "mimetype": "application/julia",
   "name": "julia",
   "version": "1.3.1"
  }
 },
 "nbformat": 4,
 "nbformat_minor": 2
}
